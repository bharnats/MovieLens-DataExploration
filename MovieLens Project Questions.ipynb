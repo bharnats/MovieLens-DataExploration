{
 "cells": [
  {
   "cell_type": "markdown",
   "metadata": {},
   "source": [
    "### `Project - MovieLens Data Analysis`\n",
    "\n",
    "The GroupLens Research Project is a research group in the Department of Computer Science and Engineering at the University of Minnesota. The data is widely used for collaborative filtering and other filtering solutions. However, we will be using this data to act as a means to demonstrate our skill in using Python to “play” with data.\n",
    "\n",
    "\n",
    "### `Objective:`\n",
    "- To implement the techniques learnt as a part of the course.\n",
    "\n",
    "### `Learning Outcomes:`\n",
    "- Exploratory Data Analysis\n",
    "\n",
    "- Visualization using Python\n",
    "\n",
    "- Pandas – groupby, merging \n",
    "\n",
    "\n",
    "### `Domain` \n",
    "- Internet and Entertainment\n",
    "\n",
    "**Note that the project will need you to apply the concepts of groupby and merging extensively.**"
   ]
  },
  {
   "cell_type": "markdown",
   "metadata": {},
   "source": [
    "### `Datasets Information:`\n",
    "\n",
    "\n",
    "*rating.csv:* It contains information on ratings given by the users to a particular movie.\n",
    "- user id: id assigned to every user\n",
    "- movie id: id assigned to every movie\n",
    "- rating: rating given by the user\n",
    "- timestamp: Time recorded when the user gave a rating\n",
    "\n",
    "\n",
    "\n",
    "*movie.csv:* File contains information related to the movies and their genre.\n",
    "- movie id: id assigned to every movie\n",
    "- movie title: Title of the movie\n",
    "- release date: Date of release of the movie\n",
    "- Action: Genre containing binary values (1 - for action 0 - not action)\n",
    "- Adventure: Genre containing binary values (1 - for adventure 0 - not adventure)\n",
    "- Animation: Genre containing binary values (1 - for animation 0 - not animation)\n",
    "- Children’s: Genre containing binary values (1 - for children's 0 - not children's)\n",
    "- Comedy: Genre containing binary values (1 - for comedy 0 - not comedy)\n",
    "- Crime: Genre containing binary values (1 - for crime 0 - not crime)\n",
    "- Documentary: Genre containing binary values (1 - for documentary 0 - not documentary)\n",
    "- Drama: Genre containing binary values (1 - for drama 0 - not drama)\n",
    "- Fantasy: Genre containing binary values (1 - for fantasy 0 - not fantasy)\n",
    "- Film-Noir: Genre containing binary values (1 - for film-noir 0 - not film-noir)\n",
    "- Horror: Genre containing binary values (1 - for horror 0 - not horror)\n",
    "- Musical: Genre containing binary values (1 - for musical 0 - not musical)\n",
    "- Mystery: Genre containing binary values (1 - for mystery 0 - not mystery)\n",
    "- Romance: Genre containing binary values (1 - for romance 0 - not romance)\n",
    "- Sci-Fi: Genre containing binary values (1 - for sci-fi 0 - not sci-fi)\n",
    "- Thriller: Genre containing binary values (1 - for thriller 0 - not thriller)\n",
    "- War: Genre containing binary values (1 - for war 0 - not war)\n",
    "- Western: Genre containing binary values (1 - for western - not western)\n",
    "\n",
    "\n",
    "\n",
    "*user.csv:* It contains information of the users who have rated the movies.\n",
    "- user id: id assigned to every user\n",
    "- age: Age of the user\n",
    "- gender: Gender of the user\n",
    "- occupation: Occupation of the user\n",
    "- zip code: Zip code of the use\n",
    "\n",
    "\n",
    "**`Please provide you insights wherever necessary.`**"
   ]
  },
  {
   "cell_type": "markdown",
   "metadata": {},
   "source": [
    "### 1. Import the necessary packages - 2.5 marks"
   ]
  },
  {
   "cell_type": "code",
   "execution_count": 19,
   "metadata": {},
   "outputs": [],
   "source": [
    "import pandas as pd\n",
    "import numpy as np\n",
    "import seaborn as sns\n",
    "import matplotlib.pyplot as plt\n",
    "sns.set_style(style='darkgrid')\n",
    "%matplotlib inline"
   ]
  },
  {
   "cell_type": "markdown",
   "metadata": {},
   "source": [
    "### 2. Read the 3 datasets into dataframes - 2.5 marks"
   ]
  },
  {
   "cell_type": "code",
   "execution_count": 20,
   "metadata": {
    "scrolled": true
   },
   "outputs": [],
   "source": [
    "user=pd.read_csv('user.csv',index_col=False)\n",
    "movie=pd.read_csv('item.csv',index_col=False)\n",
    "rating_df=pd.read_csv('Data.csv',index_col=False)"
   ]
  },
  {
   "cell_type": "code",
   "execution_count": 21,
   "metadata": {},
   "outputs": [
    {
     "name": "stdout",
     "output_type": "stream",
     "text": [
      "   user id  age gender  occupation zip code\n",
      "0        1   24      M  technician    85711\n",
      "1        2   53      F       other    94043\n",
      "2        3   23      M      writer    32067\n",
      "----------------------------------------------------------------------------\n",
      "   movie id  movie title release date  unknown  Action  Adventure  Animation  \\\n",
      "0         1   Toy Story   01-Jan-1995        0       0          0          1   \n",
      "1         2   GoldenEye   01-Jan-1995        0       1          1          0   \n",
      "2         3  Four Rooms   01-Jan-1995        0       0          0          0   \n",
      "\n",
      "   Childrens  Comedy  Crime  ...  Fantasy  Film-Noir  Horror  Musical  \\\n",
      "0          1       1      0  ...        0          0       0        0   \n",
      "1          0       0      0  ...        0          0       0        0   \n",
      "2          0       0      0  ...        0          0       0        0   \n",
      "\n",
      "   Mystery  Romance  Sci-Fi  Thriller  War  Western  \n",
      "0        0        0       0         0    0        0  \n",
      "1        0        0       0         1    0        0  \n",
      "2        0        0       0         1    0        0  \n",
      "\n",
      "[3 rows x 22 columns]\n",
      "-----------------------------------------------------------------------------\n",
      "   user id  movie id  rating  timestamp\n",
      "0      196       242       3  881250949\n",
      "1      186       302       3  891717742\n",
      "2       22       377       1  878887116\n"
     ]
    }
   ],
   "source": [
    "print(user.head(3))\n",
    "print(\"----------------------------------------------------------------------------\")\n",
    "print(movie.head(3))\n",
    "print(\"-----------------------------------------------------------------------------\")\n",
    "print(rating_df.head(3))"
   ]
  },
  {
   "cell_type": "markdown",
   "metadata": {},
   "source": [
    "### 3. Apply info, shape, describe, and find the number of missing values in the data - 5 marks\n",
    " - Note that you will need to do it for all the three datasets seperately"
   ]
  },
  {
   "cell_type": "code",
   "execution_count": 22,
   "metadata": {},
   "outputs": [
    {
     "name": "stdout",
     "output_type": "stream",
     "text": [
      "<class 'pandas.core.frame.DataFrame'>\n",
      "RangeIndex: 943 entries, 0 to 942\n",
      "Data columns (total 5 columns):\n",
      " #   Column      Non-Null Count  Dtype \n",
      "---  ------      --------------  ----- \n",
      " 0   user id     943 non-null    int64 \n",
      " 1   age         943 non-null    int64 \n",
      " 2   gender      943 non-null    object\n",
      " 3   occupation  943 non-null    object\n",
      " 4   zip code    943 non-null    object\n",
      "dtypes: int64(2), object(3)\n",
      "memory usage: 25.8+ KB\n",
      "------------------------------------------------------\n",
      "<class 'pandas.core.frame.DataFrame'>\n",
      "RangeIndex: 1681 entries, 0 to 1680\n",
      "Data columns (total 22 columns):\n",
      " #   Column        Non-Null Count  Dtype \n",
      "---  ------        --------------  ----- \n",
      " 0   movie id      1681 non-null   int64 \n",
      " 1   movie title   1681 non-null   object\n",
      " 2   release date  1681 non-null   object\n",
      " 3   unknown       1681 non-null   int64 \n",
      " 4   Action        1681 non-null   int64 \n",
      " 5   Adventure     1681 non-null   int64 \n",
      " 6   Animation     1681 non-null   int64 \n",
      " 7   Childrens     1681 non-null   int64 \n",
      " 8   Comedy        1681 non-null   int64 \n",
      " 9   Crime         1681 non-null   int64 \n",
      " 10  Documentary   1681 non-null   int64 \n",
      " 11  Drama         1681 non-null   int64 \n",
      " 12  Fantasy       1681 non-null   int64 \n",
      " 13  Film-Noir     1681 non-null   int64 \n",
      " 14  Horror        1681 non-null   int64 \n",
      " 15  Musical       1681 non-null   int64 \n",
      " 16  Mystery       1681 non-null   int64 \n",
      " 17  Romance       1681 non-null   int64 \n",
      " 18  Sci-Fi        1681 non-null   int64 \n",
      " 19  Thriller      1681 non-null   int64 \n",
      " 20  War           1681 non-null   int64 \n",
      " 21  Western       1681 non-null   int64 \n",
      "dtypes: int64(20), object(2)\n",
      "memory usage: 275.9+ KB\n",
      "------------------------------------------------------\n"
     ]
    },
    {
     "ename": "NameError",
     "evalue": "name 'rating' is not defined",
     "output_type": "error",
     "traceback": [
      "\u001b[1;31m---------------------------------------------------------------------------\u001b[0m",
      "\u001b[1;31mNameError\u001b[0m                                 Traceback (most recent call last)",
      "\u001b[1;32m<ipython-input-22-71badae2d58e>\u001b[0m in \u001b[0;36m<module>\u001b[1;34m\u001b[0m\n\u001b[0;32m      3\u001b[0m \u001b[0mmovie\u001b[0m\u001b[1;33m.\u001b[0m\u001b[0minfo\u001b[0m\u001b[1;33m(\u001b[0m\u001b[1;33m)\u001b[0m\u001b[1;33m\u001b[0m\u001b[1;33m\u001b[0m\u001b[0m\n\u001b[0;32m      4\u001b[0m \u001b[0mprint\u001b[0m\u001b[1;33m(\u001b[0m\u001b[1;34m'------------------------------------------------------'\u001b[0m\u001b[1;33m)\u001b[0m\u001b[1;33m\u001b[0m\u001b[1;33m\u001b[0m\u001b[0m\n\u001b[1;32m----> 5\u001b[1;33m \u001b[0mrating\u001b[0m\u001b[1;33m.\u001b[0m\u001b[0minfo\u001b[0m\u001b[1;33m(\u001b[0m\u001b[1;33m)\u001b[0m\u001b[1;33m\u001b[0m\u001b[1;33m\u001b[0m\u001b[0m\n\u001b[0m",
      "\u001b[1;31mNameError\u001b[0m: name 'rating' is not defined"
     ]
    }
   ],
   "source": [
    "user.info()\n",
    "print('------------------------------------------------------')\n",
    "movie.info()\n",
    "print('------------------------------------------------------')\n",
    "rating.info()"
   ]
  },
  {
   "cell_type": "code",
   "execution_count": 23,
   "metadata": {},
   "outputs": [
    {
     "name": "stdout",
     "output_type": "stream",
     "text": [
      "Shape of user data:(943, 5)\n",
      "Shape of movie data:(1681, 22)\n",
      "Shape of rating data:(100000, 4)\n"
     ]
    }
   ],
   "source": [
    "print(\"Shape of user data:\" +str(user.shape))\n",
    "print(\"Shape of movie data:\" +str(movie.shape))\n",
    "print(\"Shape of rating data:\" +str(rating_df.shape))"
   ]
  },
  {
   "cell_type": "code",
   "execution_count": 24,
   "metadata": {},
   "outputs": [
    {
     "name": "stdout",
     "output_type": "stream",
     "text": [
      "          user id         age\n",
      "count  943.000000  943.000000\n",
      "mean   472.000000   34.051962\n",
      "std    272.364951   12.192740\n",
      "min      1.000000    7.000000\n",
      "25%    236.500000   25.000000\n",
      "50%    472.000000   31.000000\n",
      "75%    707.500000   43.000000\n",
      "max    943.000000   73.000000\n",
      "--------------------------------------------------------------------------------\n",
      "          movie id      unknown       Action    Adventure    Animation  \\\n",
      "count  1681.000000  1681.000000  1681.000000  1681.000000  1681.000000   \n",
      "mean    841.841761     0.000595     0.149316     0.080309     0.024985   \n",
      "std     485.638077     0.024390     0.356506     0.271852     0.156126   \n",
      "min       1.000000     0.000000     0.000000     0.000000     0.000000   \n",
      "25%     422.000000     0.000000     0.000000     0.000000     0.000000   \n",
      "50%     842.000000     0.000000     0.000000     0.000000     0.000000   \n",
      "75%    1262.000000     0.000000     0.000000     0.000000     0.000000   \n",
      "max    1682.000000     1.000000     1.000000     1.000000     1.000000   \n",
      "\n",
      "         Childrens       Comedy        Crime  Documentary        Drama  \\\n",
      "count  1681.000000  1681.000000  1681.000000  1681.000000  1681.000000   \n",
      "mean      0.072576     0.300416     0.064842     0.029744     0.431291   \n",
      "std       0.259516     0.458576     0.246321     0.169931     0.495404   \n",
      "min       0.000000     0.000000     0.000000     0.000000     0.000000   \n",
      "25%       0.000000     0.000000     0.000000     0.000000     0.000000   \n",
      "50%       0.000000     0.000000     0.000000     0.000000     0.000000   \n",
      "75%       0.000000     1.000000     0.000000     0.000000     1.000000   \n",
      "max       1.000000     1.000000     1.000000     1.000000     1.000000   \n",
      "\n",
      "           Fantasy    Film-Noir       Horror      Musical      Mystery  \\\n",
      "count  1681.000000  1681.000000  1681.000000  1681.000000  1681.000000   \n",
      "mean      0.013087     0.014277     0.054729     0.033314     0.036288   \n",
      "std       0.113683     0.118667     0.227519     0.179507     0.187061   \n",
      "min       0.000000     0.000000     0.000000     0.000000     0.000000   \n",
      "25%       0.000000     0.000000     0.000000     0.000000     0.000000   \n",
      "50%       0.000000     0.000000     0.000000     0.000000     0.000000   \n",
      "75%       0.000000     0.000000     0.000000     0.000000     0.000000   \n",
      "max       1.000000     1.000000     1.000000     1.000000     1.000000   \n",
      "\n",
      "           Romance       Sci-Fi     Thriller          War      Western  \n",
      "count  1681.000000  1681.000000  1681.000000  1681.000000  1681.000000  \n",
      "mean      0.146936     0.060083     0.149316     0.042237     0.016062  \n",
      "std       0.354148     0.237712     0.356506     0.201189     0.125751  \n",
      "min       0.000000     0.000000     0.000000     0.000000     0.000000  \n",
      "25%       0.000000     0.000000     0.000000     0.000000     0.000000  \n",
      "50%       0.000000     0.000000     0.000000     0.000000     0.000000  \n",
      "75%       0.000000     0.000000     0.000000     0.000000     0.000000  \n",
      "max       1.000000     1.000000     1.000000     1.000000     1.000000  \n",
      "--------------------------------------------------------------------------------\n",
      "            user id       movie id         rating     timestamp\n",
      "count  100000.00000  100000.000000  100000.000000  1.000000e+05\n",
      "mean      462.48475     425.530130       3.529860  8.835289e+08\n",
      "std       266.61442     330.798356       1.125674  5.343856e+06\n",
      "min         1.00000       1.000000       1.000000  8.747247e+08\n",
      "25%       254.00000     175.000000       3.000000  8.794487e+08\n",
      "50%       447.00000     322.000000       4.000000  8.828269e+08\n",
      "75%       682.00000     631.000000       4.000000  8.882600e+08\n",
      "max       943.00000    1682.000000       5.000000  8.932866e+08\n"
     ]
    }
   ],
   "source": [
    "print(user.describe())\n",
    "print(\"--------------------------------------------------------------------------------\")\n",
    "print(movie.describe())\n",
    "print(\"--------------------------------------------------------------------------------\")\n",
    "print(rating_df.describe())"
   ]
  },
  {
   "cell_type": "code",
   "execution_count": 25,
   "metadata": {},
   "outputs": [
    {
     "name": "stdout",
     "output_type": "stream",
     "text": [
      "user id       0\n",
      "age           0\n",
      "gender        0\n",
      "occupation    0\n",
      "zip code      0\n",
      "dtype: int64\n",
      "-----------------------\n",
      "movie id        0\n",
      "movie title     0\n",
      "release date    0\n",
      "unknown         0\n",
      "Action          0\n",
      "Adventure       0\n",
      "Animation       0\n",
      "Childrens       0\n",
      "Comedy          0\n",
      "Crime           0\n",
      "Documentary     0\n",
      "Drama           0\n",
      "Fantasy         0\n",
      "Film-Noir       0\n",
      "Horror          0\n",
      "Musical         0\n",
      "Mystery         0\n",
      "Romance         0\n",
      "Sci-Fi          0\n",
      "Thriller        0\n",
      "War             0\n",
      "Western         0\n",
      "dtype: int64\n",
      "------------------------\n",
      "user id      0\n",
      "movie id     0\n",
      "rating       0\n",
      "timestamp    0\n",
      "dtype: int64\n"
     ]
    }
   ],
   "source": [
    "print(user.isnull().sum())\n",
    "print(\"-----------------------\")\n",
    "print(movie.isnull().sum())\n",
    "print(\"------------------------\")\n",
    "print(rating_df.isnull().sum())"
   ]
  },
  {
   "cell_type": "markdown",
   "metadata": {},
   "source": [
    "### 4. Find the number of movies per genre using the item data - 2.5 marks"
   ]
  },
  {
   "cell_type": "code",
   "execution_count": 26,
   "metadata": {
    "scrolled": true
   },
   "outputs": [
    {
     "name": "stdout",
     "output_type": "stream",
     "text": [
      "Drama          725\n",
      "Comedy         505\n",
      "Thriller       251\n",
      "Action         251\n",
      "Romance        247\n",
      "Adventure      135\n",
      "Childrens      122\n",
      "Crime          109\n",
      "Sci-Fi         101\n",
      "Horror          92\n",
      "War             71\n",
      "Mystery         61\n",
      "Musical         56\n",
      "Documentary     50\n",
      "Animation       42\n",
      "Western         27\n",
      "Film-Noir       24\n",
      "Fantasy         22\n",
      "unknown          1\n",
      "dtype: int64\n"
     ]
    }
   ],
   "source": [
    "genre_df=movie.drop(['movie id','movie title','release date'],axis=1)\n",
    "print(genre_df.sum().sort_values(ascending=False))"
   ]
  },
  {
   "cell_type": "markdown",
   "metadata": {},
   "source": [
    "### 5. Drop the movie where the genre is unknown - 2.5 marks"
   ]
  },
  {
   "cell_type": "code",
   "execution_count": 27,
   "metadata": {},
   "outputs": [
    {
     "data": {
      "text/plain": [
       "(1680, 22)"
      ]
     },
     "execution_count": 27,
     "metadata": {},
     "output_type": "execute_result"
    }
   ],
   "source": [
    "movie=movie[movie['unknown'] != 1]\n",
    "movie.shape"
   ]
  },
  {
   "cell_type": "markdown",
   "metadata": {},
   "source": [
    "### 6. Find the movies that have more than one genre - 5 marks\n",
    "\n",
    "hint: use sum on the axis = 1\n",
    "\n",
    "Display movie name, number of genres for the movie in dataframe\n",
    "\n",
    "and also print(total number of movies which have more than one genres)"
   ]
  },
  {
   "cell_type": "code",
   "execution_count": 28,
   "metadata": {},
   "outputs": [
    {
     "name": "stdout",
     "output_type": "stream",
     "text": [
      "                      movie title  Total no.Genres\n",
      "0       Empire Strikes Back, The                 6\n",
      "1  Kid in King Arthur's Court, A                 6\n",
      "2   Transformers: The Movie, The                 6\n",
      "3                        Jumanji                 5\n",
      "4            From Dusk Till Dawn                 5\n",
      "5                      Space Jam                 5\n",
      "6                    Heavy Metal                 5\n",
      "7                Pagemaster, The                 5\n",
      "8             Return of the Jedi                 5\n",
      "9         Muppet Treasure Island                 5\n",
      "---------------------------------------------------\n",
      "Total number of movies that have more than one genre: 849\n"
     ]
    }
   ],
   "source": [
    "multiple_genre=pd.DataFrame()\n",
    "multiple_genre=movie.drop(['movie id','release date'],axis=1)\n",
    "multiple_genre=multiple_genre.set_index('movie title')\n",
    "multiple_genre['Total no.Genres']=multiple_genre.sum(axis=1)\n",
    "multiple_genre=multiple_genre.loc[:,['Total no.Genres']]\n",
    "multiple_genre.reset_index(inplace=True)\n",
    "multiple_genre=multiple_genre[multiple_genre['Total no.Genres']>1].sort_values(by='Total no.Genres',ascending=False).reset_index(drop=True)\n",
    "print(multiple_genre.head(10))\n",
    "print(\"---------------------------------------------------\")\n",
    "print(\"Total number of movies that have more than one genre: \"+str(multiple_genre.shape[0]))"
   ]
  },
  {
   "cell_type": "markdown",
   "metadata": {},
   "source": [
    "### 7. Univariate plots of columns: 'rating', 'Age', 'release year', 'Gender' and 'Occupation' - 10 marks\n",
    "\n",
    "*HINT: Use distplot for age. Use lineplot or countplot for release year.*\n",
    "\n",
    "*HINT: Plot percentages in y-axis and categories in x-axis for ratings, gender and occupation*\n",
    "\n",
    "*HINT: Please refer to the below snippet to understand how to get to release year from release date. You can use str.split() as depicted below or you could convert it to pandas datetime format and extract year (.dt.year)*"
   ]
  },
  {
   "cell_type": "code",
   "execution_count": 29,
   "metadata": {},
   "outputs": [
    {
     "data": {
      "text/plain": [
       "<matplotlib.axes._subplots.AxesSubplot at 0x59eda00>"
      ]
     },
     "execution_count": 29,
     "metadata": {},
     "output_type": "execute_result"
    },
    {
     "data": {
      "image/png": "[encoded data removed]",
      "text/plain": [
       "<Figure size 432x288 with 1 Axes>"
      ]
     },
     "metadata": {
      "needs_background": "light"
     },
     "output_type": "display_data"
    }
   ],
   "source": [
    "sns.distplot(user['age'],color='blue',axlabel='User Age',hist_kws={\"edgecolor\":\"k\",\"linewidth\": 1,\"alpha\": 1, \"color\": \"y\"})"
   ]
  },
  {
   "cell_type": "code",
   "execution_count": 36,
   "metadata": {},
   "outputs": [
    {
     "name": "stderr",
     "output_type": "stream",
     "text": [
      "<ipython-input-36-ff2652de8106>:4: SettingWithCopyWarning: \n",
      "A value is trying to be set on a copy of a slice from a DataFrame\n",
      "\n",
      "See the caveats in the documentation: https://pandas.pydata.org/pandas-docs/stable/user_guide/indexing.html#returning-a-view-versus-a-copy\n",
      "  movie['release YEAR'][i]=row['release date'].split('-',3)[2]\n"
     ]
    }
   ],
   "source": [
    "## Extract Year from the release date column\n",
    "movie['release YEAR']=None\n",
    "for i,row in movie.iterrows():\n",
    "    movie['release YEAR'][i]=row['release date'].split('-',3)[2]"
   ]
  },
  {
   "cell_type": "code",
   "execution_count": 39,
   "metadata": {},
   "outputs": [
    {
     "data": {
      "text/html": [
       "<div>\n",
       "<style scoped>\n",
       "    .dataframe tbody tr th:only-of-type {\n",
       "        vertical-align: middle;\n",
       "    }\n",
       "\n",
       "    .dataframe tbody tr th {\n",
       "        vertical-align: top;\n",
       "    }\n",
       "\n",
       "    .dataframe thead th {\n",
       "        text-align: right;\n",
       "    }\n",
       "</style>\n",
       "<table border=\"1\" class=\"dataframe\">\n",
       "  <thead>\n",
       "    <tr style=\"text-align: right;\">\n",
       "      <th></th>\n",
       "      <th>movie id</th>\n",
       "      <th>movie title</th>\n",
       "      <th>release date</th>\n",
       "      <th>unknown</th>\n",
       "      <th>Action</th>\n",
       "      <th>Adventure</th>\n",
       "      <th>Animation</th>\n",
       "      <th>Childrens</th>\n",
       "      <th>Comedy</th>\n",
       "      <th>Crime</th>\n",
       "      <th>...</th>\n",
       "      <th>Film-Noir</th>\n",
       "      <th>Horror</th>\n",
       "      <th>Musical</th>\n",
       "      <th>Mystery</th>\n",
       "      <th>Romance</th>\n",
       "      <th>Sci-Fi</th>\n",
       "      <th>Thriller</th>\n",
       "      <th>War</th>\n",
       "      <th>Western</th>\n",
       "      <th>release YEAR</th>\n",
       "    </tr>\n",
       "  </thead>\n",
       "  <tbody>\n",
       "    <tr>\n",
       "      <th>0</th>\n",
       "      <td>1</td>\n",
       "      <td>Toy Story</td>\n",
       "      <td>01-Jan-1995</td>\n",
       "      <td>0</td>\n",
       "      <td>0</td>\n",
       "      <td>0</td>\n",
       "      <td>1</td>\n",
       "      <td>1</td>\n",
       "      <td>1</td>\n",
       "      <td>0</td>\n",
       "      <td>...</td>\n",
       "      <td>0</td>\n",
       "      <td>0</td>\n",
       "      <td>0</td>\n",
       "      <td>0</td>\n",
       "      <td>0</td>\n",
       "      <td>0</td>\n",
       "      <td>0</td>\n",
       "      <td>0</td>\n",
       "      <td>0</td>\n",
       "      <td>1995</td>\n",
       "    </tr>\n",
       "    <tr>\n",
       "      <th>1</th>\n",
       "      <td>2</td>\n",
       "      <td>GoldenEye</td>\n",
       "      <td>01-Jan-1995</td>\n",
       "      <td>0</td>\n",
       "      <td>1</td>\n",
       "      <td>1</td>\n",
       "      <td>0</td>\n",
       "      <td>0</td>\n",
       "      <td>0</td>\n",
       "      <td>0</td>\n",
       "      <td>...</td>\n",
       "      <td>0</td>\n",
       "      <td>0</td>\n",
       "      <td>0</td>\n",
       "      <td>0</td>\n",
       "      <td>0</td>\n",
       "      <td>0</td>\n",
       "      <td>1</td>\n",
       "      <td>0</td>\n",
       "      <td>0</td>\n",
       "      <td>1995</td>\n",
       "    </tr>\n",
       "  </tbody>\n",
       "</table>\n",
       "<p>2 rows × 23 columns</p>\n",
       "</div>"
      ],
      "text/plain": [
       "   movie id movie title release date  unknown  Action  Adventure  Animation  \\\n",
       "0         1  Toy Story   01-Jan-1995        0       0          0          1   \n",
       "1         2  GoldenEye   01-Jan-1995        0       1          1          0   \n",
       "\n",
       "   Childrens  Comedy  Crime  ...  Film-Noir  Horror  Musical  Mystery  \\\n",
       "0          1       1      0  ...          0       0        0        0   \n",
       "1          0       0      0  ...          0       0        0        0   \n",
       "\n",
       "   Romance  Sci-Fi  Thriller  War  Western  release YEAR  \n",
       "0        0       0         0    0        0          1995  \n",
       "1        0       0         1    0        0          1995  \n",
       "\n",
       "[2 rows x 23 columns]"
      ]
     },
     "execution_count": 39,
     "metadata": {},
     "output_type": "execute_result"
    }
   ],
   "source": [
    "movie.head(2)"
   ]
  },
  {
   "cell_type": "code",
   "execution_count": 40,
   "metadata": {},
   "outputs": [
    {
     "data": {
      "text/plain": [
       "[<matplotlib.lines.Line2D at 0xe6942b0>]"
      ]
     },
     "execution_count": 40,
     "metadata": {},
     "output_type": "execute_result"
    },
    {
     "data": {
      "image/png": "[encoded data removed]",
      "text/plain": [
       "<Figure size 432x288 with 1 Axes>"
      ]
     },
     "metadata": {
      "needs_background": "light"
     },
     "output_type": "display_data"
    }
   ],
   "source": [
    "## Line plot for release Year\n",
    "movie_group=movie.groupby(['release YEAR'])['movie id'].count()\n",
    "movie_group=pd.DataFrame({'count':movie_group}).reset_index()\n",
    "movie_group['release YEAR']=movie_group['release YEAR'].astype(int)\n",
    "plt.plot('release YEAR','count','b',data=movie_group)\n"
   ]
  },
  {
   "cell_type": "code",
   "execution_count": 41,
   "metadata": {},
   "outputs": [
    {
     "name": "stdout",
     "output_type": "stream",
     "text": [
      "  Gender  Percent(%)\n",
      "0      M        71.0\n",
      "1      F        29.0\n"
     ]
    },
    {
     "data": {
      "text/plain": [
       "<matplotlib.axes._subplots.AxesSubplot at 0xe6c58c8>"
      ]
     },
     "execution_count": 41,
     "metadata": {},
     "output_type": "execute_result"
    },
    {
     "data": {
      "image/png": "[encoded data removed]",
      "text/plain": [
       "<Figure size 432x288 with 1 Axes>"
      ]
     },
     "metadata": {
      "needs_background": "light"
     },
     "output_type": "display_data"
    }
   ],
   "source": [
    "count=user['gender'].value_counts()\n",
    "gender=user['gender'].unique()\n",
    "percent=user['gender'].value_counts(normalize=True).mul(100).round(1)\n",
    "gender_df=pd.DataFrame({'Gender':gender,'Percent(%)':percent}).reset_index()\n",
    "gender_df=gender_df.drop(['index'],axis=1)\n",
    "print(gender_df)\n",
    "# plot Gender\n",
    "sns.barplot(x='Gender',y='Percent(%)',data=gender_df,palette='Set1')\n",
    "\n"
   ]
  },
  {
   "cell_type": "code",
   "execution_count": 42,
   "metadata": {},
   "outputs": [
    {
     "name": "stdout",
     "output_type": "stream",
     "text": [
      "       Occupation  Percent(%)\n",
      "0      technician        20.8\n",
      "1           other        11.1\n",
      "2          writer        10.1\n",
      "3       executive         8.4\n",
      "4   administrator         7.1\n",
      "5         student         7.0\n",
      "6          lawyer         5.4\n",
      "7        educator         4.8\n",
      "8       scientist         3.4\n",
      "9   entertainment         3.3\n",
      "10     programmer         3.0\n",
      "11      librarian         2.9\n",
      "12      homemaker         2.8\n",
      "13         artist         1.9\n",
      "14       engineer         1.7\n",
      "15      marketing         1.5\n",
      "16           none         1.3\n",
      "17     healthcare         1.3\n",
      "18        retired         1.0\n",
      "19       salesman         0.7\n",
      "20         doctor         0.7\n"
     ]
    },
    {
     "data": {
      "text/plain": [
       "[Text(0, 0, 'technician'),\n",
       " Text(0, 0, 'other'),\n",
       " Text(0, 0, 'writer'),\n",
       " Text(0, 0, 'executive'),\n",
       " Text(0, 0, 'administrator'),\n",
       " Text(0, 0, 'student'),\n",
       " Text(0, 0, 'lawyer'),\n",
       " Text(0, 0, 'educator'),\n",
       " Text(0, 0, 'scientist'),\n",
       " Text(0, 0, 'entertainment'),\n",
       " Text(0, 0, 'programmer'),\n",
       " Text(0, 0, 'librarian'),\n",
       " Text(0, 0, 'homemaker'),\n",
       " Text(0, 0, 'artist'),\n",
       " Text(0, 0, 'engineer'),\n",
       " Text(0, 0, 'marketing'),\n",
       " Text(0, 0, 'none'),\n",
       " Text(0, 0, 'healthcare'),\n",
       " Text(0, 0, 'retired'),\n",
       " Text(0, 0, 'salesman'),\n",
       " Text(0, 0, 'doctor')]"
      ]
     },
     "execution_count": 42,
     "metadata": {},
     "output_type": "execute_result"
    },
    {
     "data": {
      "image/png": "[encoded data removed]",
      "text/plain": [
       "<Figure size 720x360 with 1 Axes>"
      ]
     },
     "metadata": {
      "needs_background": "light"
     },
     "output_type": "display_data"
    }
   ],
   "source": [
    "\n",
    "count=user['occupation'].value_counts()\n",
    "occupation=user['occupation'].unique()\n",
    "percent=user['occupation'].value_counts(normalize=True).mul(100).round(1)\n",
    "occ_df=pd.DataFrame({'Occupation':occupation,'Percent(%)':percent}).reset_index()\n",
    "occ_df=occ_df.drop(['index'],axis=1)\n",
    "print(occ_df)\n",
    "# plot occupation\n",
    "plt.figure(figsize=(10,5))\n",
    "chart=sns.barplot(x='Occupation',y='Percent(%)',data=occ_df,palette='Set1')\n",
    "chart.set_xticklabels(chart.get_xticklabels(),rotation=90)\n"
   ]
  },
  {
   "cell_type": "code",
   "execution_count": 43,
   "metadata": {},
   "outputs": [
    {
     "name": "stdout",
     "output_type": "stream",
     "text": [
      "   Rating  Percent(%)\n",
      "4       5         6.1\n",
      "3       4        11.4\n",
      "0       3        34.2\n",
      "2       2        21.2\n",
      "1       1        27.1\n"
     ]
    },
    {
     "data": {
      "text/plain": [
       "[Text(0, 0, '1'),\n",
       " Text(0, 0, '2'),\n",
       " Text(0, 0, '3'),\n",
       " Text(0, 0, '4'),\n",
       " Text(0, 0, '5')]"
      ]
     },
     "execution_count": 43,
     "metadata": {},
     "output_type": "execute_result"
    },
    {
     "data": {
      "image/png": "[encoded data removed]",
      "text/plain": [
       "<Figure size 720x360 with 1 Axes>"
      ]
     },
     "metadata": {
      "needs_background": "light"
     },
     "output_type": "display_data"
    }
   ],
   "source": [
    "count=rating_df['rating'].value_counts()\n",
    "rating=rating_df['rating'].unique()\n",
    "percent=rating_df['rating'].value_counts(normalize=True).mul(100).round(1)\n",
    "rate_df=pd.DataFrame({'Rating':rating,'Percent(%)':percent}).reset_index()\n",
    "rate_df=rate_df.drop(['index'],axis=1)\n",
    "print(rate_df.sort_values(by='Rating',ascending=False))\n",
    "# plot occupation\n",
    "plt.figure(figsize=(10,5))\n",
    "chart=sns.barplot(x='Rating',y='Percent(%)',data=rate_df,palette='Set1')\n",
    "chart.set_xticklabels(chart.get_xticklabels(),rotation=90)"
   ]
  },
  {
   "cell_type": "code",
   "execution_count": 44,
   "metadata": {},
   "outputs": [
    {
     "name": "stdout",
     "output_type": "stream",
     "text": [
      "brown\n",
      "brown\n",
      "brown\n"
     ]
    }
   ],
   "source": [
    "a = 'My*cat*is*brown'\n",
    "print(a.split('*')[3])\n",
    "\n",
    "#similarly, the release year needs to be taken out from release date\n",
    "\n",
    "#also you can simply slice existing string to get the desired data, if we want to take out the colour of the cat\n",
    "\n",
    "print(a[10:])\n",
    "print(a[-5:])"
   ]
  },
  {
   "cell_type": "code",
   "execution_count": 45,
   "metadata": {},
   "outputs": [
    {
     "data": {
      "text/html": [
       "<div>\n",
       "<style scoped>\n",
       "    .dataframe tbody tr th:only-of-type {\n",
       "        vertical-align: middle;\n",
       "    }\n",
       "\n",
       "    .dataframe tbody tr th {\n",
       "        vertical-align: top;\n",
       "    }\n",
       "\n",
       "    .dataframe thead th {\n",
       "        text-align: right;\n",
       "    }\n",
       "</style>\n",
       "<table border=\"1\" class=\"dataframe\">\n",
       "  <thead>\n",
       "    <tr style=\"text-align: right;\">\n",
       "      <th></th>\n",
       "      <th>movie id</th>\n",
       "      <th>movie title</th>\n",
       "      <th>release date</th>\n",
       "      <th>unknown</th>\n",
       "      <th>Action</th>\n",
       "      <th>Adventure</th>\n",
       "      <th>Animation</th>\n",
       "      <th>Childrens</th>\n",
       "      <th>Comedy</th>\n",
       "      <th>Crime</th>\n",
       "      <th>...</th>\n",
       "      <th>Film-Noir</th>\n",
       "      <th>Horror</th>\n",
       "      <th>Musical</th>\n",
       "      <th>Mystery</th>\n",
       "      <th>Romance</th>\n",
       "      <th>Sci-Fi</th>\n",
       "      <th>Thriller</th>\n",
       "      <th>War</th>\n",
       "      <th>Western</th>\n",
       "      <th>release YEAR</th>\n",
       "    </tr>\n",
       "  </thead>\n",
       "  <tbody>\n",
       "    <tr>\n",
       "      <th>0</th>\n",
       "      <td>1</td>\n",
       "      <td>Toy Story</td>\n",
       "      <td>01-Jan-1995</td>\n",
       "      <td>0</td>\n",
       "      <td>0</td>\n",
       "      <td>0</td>\n",
       "      <td>1</td>\n",
       "      <td>1</td>\n",
       "      <td>1</td>\n",
       "      <td>0</td>\n",
       "      <td>...</td>\n",
       "      <td>0</td>\n",
       "      <td>0</td>\n",
       "      <td>0</td>\n",
       "      <td>0</td>\n",
       "      <td>0</td>\n",
       "      <td>0</td>\n",
       "      <td>0</td>\n",
       "      <td>0</td>\n",
       "      <td>0</td>\n",
       "      <td>1995</td>\n",
       "    </tr>\n",
       "    <tr>\n",
       "      <th>1</th>\n",
       "      <td>2</td>\n",
       "      <td>GoldenEye</td>\n",
       "      <td>01-Jan-1995</td>\n",
       "      <td>0</td>\n",
       "      <td>1</td>\n",
       "      <td>1</td>\n",
       "      <td>0</td>\n",
       "      <td>0</td>\n",
       "      <td>0</td>\n",
       "      <td>0</td>\n",
       "      <td>...</td>\n",
       "      <td>0</td>\n",
       "      <td>0</td>\n",
       "      <td>0</td>\n",
       "      <td>0</td>\n",
       "      <td>0</td>\n",
       "      <td>0</td>\n",
       "      <td>1</td>\n",
       "      <td>0</td>\n",
       "      <td>0</td>\n",
       "      <td>1995</td>\n",
       "    </tr>\n",
       "  </tbody>\n",
       "</table>\n",
       "<p>2 rows × 23 columns</p>\n",
       "</div>"
      ],
      "text/plain": [
       "   movie id movie title release date  unknown  Action  Adventure  Animation  \\\n",
       "0         1  Toy Story   01-Jan-1995        0       0          0          1   \n",
       "1         2  GoldenEye   01-Jan-1995        0       1          1          0   \n",
       "\n",
       "   Childrens  Comedy  Crime  ...  Film-Noir  Horror  Musical  Mystery  \\\n",
       "0          1       1      0  ...          0       0        0        0   \n",
       "1          0       0      0  ...          0       0        0        0   \n",
       "\n",
       "   Romance  Sci-Fi  Thriller  War  Western  release YEAR  \n",
       "0        0       0         0    0        0          1995  \n",
       "1        0       0         1    0        0          1995  \n",
       "\n",
       "[2 rows x 23 columns]"
      ]
     },
     "execution_count": 45,
     "metadata": {},
     "output_type": "execute_result"
    }
   ],
   "source": [
    "movie.head(2)"
   ]
  },
  {
   "cell_type": "code",
   "execution_count": 84,
   "metadata": {},
   "outputs": [
    {
     "data": {
      "text/html": [
       "<div>\n",
       "<style scoped>\n",
       "    .dataframe tbody tr th:only-of-type {\n",
       "        vertical-align: middle;\n",
       "    }\n",
       "\n",
       "    .dataframe tbody tr th {\n",
       "        vertical-align: top;\n",
       "    }\n",
       "\n",
       "    .dataframe thead th {\n",
       "        text-align: right;\n",
       "    }\n",
       "</style>\n",
       "<table border=\"1\" class=\"dataframe\">\n",
       "  <thead>\n",
       "    <tr style=\"text-align: right;\">\n",
       "      <th></th>\n",
       "      <th>unknown</th>\n",
       "      <th>Action</th>\n",
       "      <th>Adventure</th>\n",
       "      <th>Animation</th>\n",
       "      <th>Childrens</th>\n",
       "      <th>Comedy</th>\n",
       "      <th>Crime</th>\n",
       "      <th>Documentary</th>\n",
       "      <th>Drama</th>\n",
       "      <th>Fantasy</th>\n",
       "      <th>Film-Noir</th>\n",
       "      <th>Horror</th>\n",
       "      <th>Musical</th>\n",
       "      <th>Mystery</th>\n",
       "      <th>Romance</th>\n",
       "      <th>Sci-Fi</th>\n",
       "      <th>Thriller</th>\n",
       "      <th>War</th>\n",
       "      <th>Western</th>\n",
       "      <th>release YEAR</th>\n",
       "    </tr>\n",
       "  </thead>\n",
       "  <tbody>\n",
       "    <tr>\n",
       "      <th>0</th>\n",
       "      <td>0</td>\n",
       "      <td>0</td>\n",
       "      <td>0</td>\n",
       "      <td>1</td>\n",
       "      <td>1</td>\n",
       "      <td>1</td>\n",
       "      <td>0</td>\n",
       "      <td>0</td>\n",
       "      <td>0</td>\n",
       "      <td>0</td>\n",
       "      <td>0</td>\n",
       "      <td>0</td>\n",
       "      <td>0</td>\n",
       "      <td>0</td>\n",
       "      <td>0</td>\n",
       "      <td>0</td>\n",
       "      <td>0</td>\n",
       "      <td>0</td>\n",
       "      <td>0</td>\n",
       "      <td>1995</td>\n",
       "    </tr>\n",
       "    <tr>\n",
       "      <th>1</th>\n",
       "      <td>0</td>\n",
       "      <td>1</td>\n",
       "      <td>1</td>\n",
       "      <td>0</td>\n",
       "      <td>0</td>\n",
       "      <td>0</td>\n",
       "      <td>0</td>\n",
       "      <td>0</td>\n",
       "      <td>0</td>\n",
       "      <td>0</td>\n",
       "      <td>0</td>\n",
       "      <td>0</td>\n",
       "      <td>0</td>\n",
       "      <td>0</td>\n",
       "      <td>0</td>\n",
       "      <td>0</td>\n",
       "      <td>1</td>\n",
       "      <td>0</td>\n",
       "      <td>0</td>\n",
       "      <td>1995</td>\n",
       "    </tr>\n",
       "    <tr>\n",
       "      <th>2</th>\n",
       "      <td>0</td>\n",
       "      <td>0</td>\n",
       "      <td>0</td>\n",
       "      <td>0</td>\n",
       "      <td>0</td>\n",
       "      <td>0</td>\n",
       "      <td>0</td>\n",
       "      <td>0</td>\n",
       "      <td>0</td>\n",
       "      <td>0</td>\n",
       "      <td>0</td>\n",
       "      <td>0</td>\n",
       "      <td>0</td>\n",
       "      <td>0</td>\n",
       "      <td>0</td>\n",
       "      <td>0</td>\n",
       "      <td>1</td>\n",
       "      <td>0</td>\n",
       "      <td>0</td>\n",
       "      <td>1995</td>\n",
       "    </tr>\n",
       "  </tbody>\n",
       "</table>\n",
       "</div>"
      ],
      "text/plain": [
       "   unknown  Action  Adventure  Animation  Childrens  Comedy  Crime  \\\n",
       "0        0       0          0          1          1       1      0   \n",
       "1        0       1          1          0          0       0      0   \n",
       "2        0       0          0          0          0       0      0   \n",
       "\n",
       "   Documentary  Drama  Fantasy  Film-Noir  Horror  Musical  Mystery  Romance  \\\n",
       "0            0      0        0          0       0        0        0        0   \n",
       "1            0      0        0          0       0        0        0        0   \n",
       "2            0      0        0          0       0        0        0        0   \n",
       "\n",
       "   Sci-Fi  Thriller  War  Western release YEAR  \n",
       "0       0         0    0        0         1995  \n",
       "1       0         1    0        0         1995  \n",
       "2       0         1    0        0         1995  "
      ]
     },
     "execution_count": 84,
     "metadata": {},
     "output_type": "execute_result"
    }
   ],
   "source": [
    "pop_movie=pd.DataFrame()\n",
    "pop_movie=movie.drop(['movie id','movie title','release date'],axis=1)\n",
    "pop_movie.head(3)"
   ]
  },
  {
   "cell_type": "code",
   "execution_count": 85,
   "metadata": {},
   "outputs": [],
   "source": [
    "pop_movie=pop_movie.groupby('release YEAR').sum()\n",
    "\n",
    "pop_movie['tot_release']=0\n",
    "pop_movie['tot_release']=pop_movie.sum(axis=1)\n",
    "    \n",
    "    "
   ]
  },
  {
   "cell_type": "code",
   "execution_count": 86,
   "metadata": {},
   "outputs": [
    {
     "data": {
      "text/html": [
       "<div>\n",
       "<style scoped>\n",
       "    .dataframe tbody tr th:only-of-type {\n",
       "        vertical-align: middle;\n",
       "    }\n",
       "\n",
       "    .dataframe tbody tr th {\n",
       "        vertical-align: top;\n",
       "    }\n",
       "\n",
       "    .dataframe thead th {\n",
       "        text-align: right;\n",
       "    }\n",
       "</style>\n",
       "<table border=\"1\" class=\"dataframe\">\n",
       "  <thead>\n",
       "    <tr style=\"text-align: right;\">\n",
       "      <th></th>\n",
       "      <th>unknown</th>\n",
       "      <th>Action</th>\n",
       "      <th>Adventure</th>\n",
       "      <th>Animation</th>\n",
       "      <th>Childrens</th>\n",
       "      <th>Comedy</th>\n",
       "      <th>Crime</th>\n",
       "      <th>Documentary</th>\n",
       "      <th>Drama</th>\n",
       "      <th>Fantasy</th>\n",
       "      <th>Film-Noir</th>\n",
       "      <th>Horror</th>\n",
       "      <th>Musical</th>\n",
       "      <th>Mystery</th>\n",
       "      <th>Romance</th>\n",
       "      <th>Sci-Fi</th>\n",
       "      <th>Thriller</th>\n",
       "      <th>War</th>\n",
       "      <th>Western</th>\n",
       "      <th>tot_release</th>\n",
       "    </tr>\n",
       "    <tr>\n",
       "      <th>release YEAR</th>\n",
       "      <th></th>\n",
       "      <th></th>\n",
       "      <th></th>\n",
       "      <th></th>\n",
       "      <th></th>\n",
       "      <th></th>\n",
       "      <th></th>\n",
       "      <th></th>\n",
       "      <th></th>\n",
       "      <th></th>\n",
       "      <th></th>\n",
       "      <th></th>\n",
       "      <th></th>\n",
       "      <th></th>\n",
       "      <th></th>\n",
       "      <th></th>\n",
       "      <th></th>\n",
       "      <th></th>\n",
       "      <th></th>\n",
       "      <th></th>\n",
       "    </tr>\n",
       "  </thead>\n",
       "  <tbody>\n",
       "    <tr>\n",
       "      <th>1922</th>\n",
       "      <td>0</td>\n",
       "      <td>0</td>\n",
       "      <td>0</td>\n",
       "      <td>0</td>\n",
       "      <td>0</td>\n",
       "      <td>0</td>\n",
       "      <td>0</td>\n",
       "      <td>0</td>\n",
       "      <td>0</td>\n",
       "      <td>0</td>\n",
       "      <td>0</td>\n",
       "      <td>1</td>\n",
       "      <td>0</td>\n",
       "      <td>0</td>\n",
       "      <td>0</td>\n",
       "      <td>0</td>\n",
       "      <td>0</td>\n",
       "      <td>0</td>\n",
       "      <td>0</td>\n",
       "      <td>1</td>\n",
       "    </tr>\n",
       "    <tr>\n",
       "      <th>1926</th>\n",
       "      <td>0</td>\n",
       "      <td>0</td>\n",
       "      <td>0</td>\n",
       "      <td>0</td>\n",
       "      <td>0</td>\n",
       "      <td>0</td>\n",
       "      <td>0</td>\n",
       "      <td>0</td>\n",
       "      <td>1</td>\n",
       "      <td>0</td>\n",
       "      <td>0</td>\n",
       "      <td>0</td>\n",
       "      <td>0</td>\n",
       "      <td>0</td>\n",
       "      <td>0</td>\n",
       "      <td>0</td>\n",
       "      <td>0</td>\n",
       "      <td>0</td>\n",
       "      <td>0</td>\n",
       "      <td>1</td>\n",
       "    </tr>\n",
       "    <tr>\n",
       "      <th>1930</th>\n",
       "      <td>0</td>\n",
       "      <td>0</td>\n",
       "      <td>0</td>\n",
       "      <td>0</td>\n",
       "      <td>0</td>\n",
       "      <td>0</td>\n",
       "      <td>0</td>\n",
       "      <td>0</td>\n",
       "      <td>1</td>\n",
       "      <td>0</td>\n",
       "      <td>0</td>\n",
       "      <td>0</td>\n",
       "      <td>0</td>\n",
       "      <td>0</td>\n",
       "      <td>0</td>\n",
       "      <td>0</td>\n",
       "      <td>0</td>\n",
       "      <td>0</td>\n",
       "      <td>0</td>\n",
       "      <td>1</td>\n",
       "    </tr>\n",
       "  </tbody>\n",
       "</table>\n",
       "</div>"
      ],
      "text/plain": [
       "              unknown  Action  Adventure  Animation  Childrens  Comedy  Crime  \\\n",
       "release YEAR                                                                    \n",
       "1922                0       0          0          0          0       0      0   \n",
       "1926                0       0          0          0          0       0      0   \n",
       "1930                0       0          0          0          0       0      0   \n",
       "\n",
       "              Documentary  Drama  Fantasy  Film-Noir  Horror  Musical  \\\n",
       "release YEAR                                                            \n",
       "1922                    0      0        0          0       1        0   \n",
       "1926                    0      1        0          0       0        0   \n",
       "1930                    0      1        0          0       0        0   \n",
       "\n",
       "              Mystery  Romance  Sci-Fi  Thriller  War  Western  tot_release  \n",
       "release YEAR                                                                 \n",
       "1922                0        0       0         0    0        0            1  \n",
       "1926                0        0       0         0    0        0            1  \n",
       "1930                0        0       0         0    0        0            1  "
      ]
     },
     "execution_count": 86,
     "metadata": {},
     "output_type": "execute_result"
    }
   ],
   "source": [
    "pop_movie.head(3)"
   ]
  },
  {
   "cell_type": "markdown",
   "metadata": {},
   "source": [
    "### 8. Visualize how popularity of genres has changed over the years - 10 marks\n",
    "\n",
    "Note that you need to use the **percent of number of releases in a year** as a parameter of popularity of a genre\n",
    "\n",
    "Hint 1: You need to reach to a data frame where the release year is the index and the genre is the column names (one cell shows the number of release in a year in one genre) or vice versa. (Drop unnecessary column if there are any)\n",
    "\n",
    "Hint 2: Find the total number of movies release in a year(use `sum(axis=1)` store that value in a new column as 'total'). Now divide the value of each genre in that year by total to get percentage number of release in a particular year.\n",
    "`(df.div(df['total'], axis= 0) * 100)`\n",
    "\n",
    "Once that is achieved, you can either use univariate plots or can use the heatmap to visualise all the changes over the years \n",
    "in one go. \n",
    "\n",
    "Hint 3: Use groupby on the relevant column and use sum() on the same to find out the number of releases in a year/genre.  "
   ]
  },
  {
   "cell_type": "code",
   "execution_count": 87,
   "metadata": {},
   "outputs": [
    {
     "data": {
      "text/html": [
       "<div>\n",
       "<style scoped>\n",
       "    .dataframe tbody tr th:only-of-type {\n",
       "        vertical-align: middle;\n",
       "    }\n",
       "\n",
       "    .dataframe tbody tr th {\n",
       "        vertical-align: top;\n",
       "    }\n",
       "\n",
       "    .dataframe thead th {\n",
       "        text-align: right;\n",
       "    }\n",
       "</style>\n",
       "<table border=\"1\" class=\"dataframe\">\n",
       "  <thead>\n",
       "    <tr style=\"text-align: right;\">\n",
       "      <th></th>\n",
       "      <th>unknown</th>\n",
       "      <th>Action</th>\n",
       "      <th>Adventure</th>\n",
       "      <th>Animation</th>\n",
       "      <th>Childrens</th>\n",
       "      <th>Comedy</th>\n",
       "      <th>Crime</th>\n",
       "      <th>Documentary</th>\n",
       "      <th>Drama</th>\n",
       "      <th>Fantasy</th>\n",
       "      <th>Film-Noir</th>\n",
       "      <th>Horror</th>\n",
       "      <th>Musical</th>\n",
       "      <th>Mystery</th>\n",
       "      <th>Romance</th>\n",
       "      <th>Sci-Fi</th>\n",
       "      <th>Thriller</th>\n",
       "      <th>War</th>\n",
       "      <th>Western</th>\n",
       "    </tr>\n",
       "    <tr>\n",
       "      <th>release YEAR</th>\n",
       "      <th></th>\n",
       "      <th></th>\n",
       "      <th></th>\n",
       "      <th></th>\n",
       "      <th></th>\n",
       "      <th></th>\n",
       "      <th></th>\n",
       "      <th></th>\n",
       "      <th></th>\n",
       "      <th></th>\n",
       "      <th></th>\n",
       "      <th></th>\n",
       "      <th></th>\n",
       "      <th></th>\n",
       "      <th></th>\n",
       "      <th></th>\n",
       "      <th></th>\n",
       "      <th></th>\n",
       "      <th></th>\n",
       "    </tr>\n",
       "  </thead>\n",
       "  <tbody>\n",
       "    <tr>\n",
       "      <th>1922</th>\n",
       "      <td>0.0</td>\n",
       "      <td>0.0</td>\n",
       "      <td>0.0</td>\n",
       "      <td>0.0</td>\n",
       "      <td>0.0</td>\n",
       "      <td>0.0</td>\n",
       "      <td>0.0</td>\n",
       "      <td>0.0</td>\n",
       "      <td>0.0</td>\n",
       "      <td>0.0</td>\n",
       "      <td>0.0</td>\n",
       "      <td>100.0</td>\n",
       "      <td>0.0</td>\n",
       "      <td>0.0</td>\n",
       "      <td>0.0</td>\n",
       "      <td>0.0</td>\n",
       "      <td>0.0</td>\n",
       "      <td>0.0</td>\n",
       "      <td>0.0</td>\n",
       "    </tr>\n",
       "    <tr>\n",
       "      <th>1926</th>\n",
       "      <td>0.0</td>\n",
       "      <td>0.0</td>\n",
       "      <td>0.0</td>\n",
       "      <td>0.0</td>\n",
       "      <td>0.0</td>\n",
       "      <td>0.0</td>\n",
       "      <td>0.0</td>\n",
       "      <td>0.0</td>\n",
       "      <td>100.0</td>\n",
       "      <td>0.0</td>\n",
       "      <td>0.0</td>\n",
       "      <td>0.0</td>\n",
       "      <td>0.0</td>\n",
       "      <td>0.0</td>\n",
       "      <td>0.0</td>\n",
       "      <td>0.0</td>\n",
       "      <td>0.0</td>\n",
       "      <td>0.0</td>\n",
       "      <td>0.0</td>\n",
       "    </tr>\n",
       "    <tr>\n",
       "      <th>1930</th>\n",
       "      <td>0.0</td>\n",
       "      <td>0.0</td>\n",
       "      <td>0.0</td>\n",
       "      <td>0.0</td>\n",
       "      <td>0.0</td>\n",
       "      <td>0.0</td>\n",
       "      <td>0.0</td>\n",
       "      <td>0.0</td>\n",
       "      <td>100.0</td>\n",
       "      <td>0.0</td>\n",
       "      <td>0.0</td>\n",
       "      <td>0.0</td>\n",
       "      <td>0.0</td>\n",
       "      <td>0.0</td>\n",
       "      <td>0.0</td>\n",
       "      <td>0.0</td>\n",
       "      <td>0.0</td>\n",
       "      <td>0.0</td>\n",
       "      <td>0.0</td>\n",
       "    </tr>\n",
       "  </tbody>\n",
       "</table>\n",
       "</div>"
      ],
      "text/plain": [
       "              unknown  Action  Adventure  Animation  Childrens  Comedy  Crime  \\\n",
       "release YEAR                                                                    \n",
       "1922              0.0     0.0        0.0        0.0        0.0     0.0    0.0   \n",
       "1926              0.0     0.0        0.0        0.0        0.0     0.0    0.0   \n",
       "1930              0.0     0.0        0.0        0.0        0.0     0.0    0.0   \n",
       "\n",
       "              Documentary  Drama  Fantasy  Film-Noir  Horror  Musical  \\\n",
       "release YEAR                                                            \n",
       "1922                  0.0    0.0      0.0        0.0   100.0      0.0   \n",
       "1926                  0.0  100.0      0.0        0.0     0.0      0.0   \n",
       "1930                  0.0  100.0      0.0        0.0     0.0      0.0   \n",
       "\n",
       "              Mystery  Romance  Sci-Fi  Thriller  War  Western  \n",
       "release YEAR                                                    \n",
       "1922              0.0      0.0     0.0       0.0  0.0      0.0  \n",
       "1926              0.0      0.0     0.0       0.0  0.0      0.0  \n",
       "1930              0.0      0.0     0.0       0.0  0.0      0.0  "
      ]
     },
     "execution_count": 87,
     "metadata": {},
     "output_type": "execute_result"
    }
   ],
   "source": [
    "pop_movie=pop_movie.iloc[:,:-1].div(pop_movie['tot_release'], axis=0).round(1)*100\n",
    "pop_movie.head(3)"
   ]
  },
  {
   "cell_type": "code",
   "execution_count": 88,
   "metadata": {},
   "outputs": [
    {
     "data": {
      "text/html": [
       "<div>\n",
       "<style scoped>\n",
       "    .dataframe tbody tr th:only-of-type {\n",
       "        vertical-align: middle;\n",
       "    }\n",
       "\n",
       "    .dataframe tbody tr th {\n",
       "        vertical-align: top;\n",
       "    }\n",
       "\n",
       "    .dataframe thead th {\n",
       "        text-align: right;\n",
       "    }\n",
       "</style>\n",
       "<table border=\"1\" class=\"dataframe\">\n",
       "  <thead>\n",
       "    <tr style=\"text-align: right;\">\n",
       "      <th></th>\n",
       "      <th>release YEAR</th>\n",
       "      <th>unknown</th>\n",
       "      <th>Action</th>\n",
       "      <th>Adventure</th>\n",
       "      <th>Animation</th>\n",
       "      <th>Childrens</th>\n",
       "      <th>Comedy</th>\n",
       "      <th>Crime</th>\n",
       "      <th>Documentary</th>\n",
       "      <th>Drama</th>\n",
       "      <th>Fantasy</th>\n",
       "      <th>Film-Noir</th>\n",
       "      <th>Horror</th>\n",
       "      <th>Musical</th>\n",
       "      <th>Mystery</th>\n",
       "      <th>Romance</th>\n",
       "      <th>Sci-Fi</th>\n",
       "      <th>Thriller</th>\n",
       "      <th>War</th>\n",
       "      <th>Western</th>\n",
       "    </tr>\n",
       "  </thead>\n",
       "  <tbody>\n",
       "    <tr>\n",
       "      <th>0</th>\n",
       "      <td>1922</td>\n",
       "      <td>0.0</td>\n",
       "      <td>0.0</td>\n",
       "      <td>0.0</td>\n",
       "      <td>0.0</td>\n",
       "      <td>0.0</td>\n",
       "      <td>0.0</td>\n",
       "      <td>0.0</td>\n",
       "      <td>0.0</td>\n",
       "      <td>0.0</td>\n",
       "      <td>0.0</td>\n",
       "      <td>0.0</td>\n",
       "      <td>100.0</td>\n",
       "      <td>0.0</td>\n",
       "      <td>0.0</td>\n",
       "      <td>0.0</td>\n",
       "      <td>0.0</td>\n",
       "      <td>0.0</td>\n",
       "      <td>0.0</td>\n",
       "      <td>0.0</td>\n",
       "    </tr>\n",
       "    <tr>\n",
       "      <th>1</th>\n",
       "      <td>1926</td>\n",
       "      <td>0.0</td>\n",
       "      <td>0.0</td>\n",
       "      <td>0.0</td>\n",
       "      <td>0.0</td>\n",
       "      <td>0.0</td>\n",
       "      <td>0.0</td>\n",
       "      <td>0.0</td>\n",
       "      <td>0.0</td>\n",
       "      <td>100.0</td>\n",
       "      <td>0.0</td>\n",
       "      <td>0.0</td>\n",
       "      <td>0.0</td>\n",
       "      <td>0.0</td>\n",
       "      <td>0.0</td>\n",
       "      <td>0.0</td>\n",
       "      <td>0.0</td>\n",
       "      <td>0.0</td>\n",
       "      <td>0.0</td>\n",
       "      <td>0.0</td>\n",
       "    </tr>\n",
       "  </tbody>\n",
       "</table>\n",
       "</div>"
      ],
      "text/plain": [
       "  release YEAR  unknown  Action  Adventure  Animation  Childrens  Comedy  \\\n",
       "0         1922      0.0     0.0        0.0        0.0        0.0     0.0   \n",
       "1         1926      0.0     0.0        0.0        0.0        0.0     0.0   \n",
       "\n",
       "   Crime  Documentary  Drama  Fantasy  Film-Noir  Horror  Musical  Mystery  \\\n",
       "0    0.0          0.0    0.0      0.0        0.0   100.0      0.0      0.0   \n",
       "1    0.0          0.0  100.0      0.0        0.0     0.0      0.0      0.0   \n",
       "\n",
       "   Romance  Sci-Fi  Thriller  War  Western  \n",
       "0      0.0     0.0       0.0  0.0      0.0  \n",
       "1      0.0     0.0       0.0  0.0      0.0  "
      ]
     },
     "execution_count": 88,
     "metadata": {},
     "output_type": "execute_result"
    }
   ],
   "source": [
    "pop_movie.reset_index(inplace=True)\n",
    "pop_movie.head(2)\n",
    "#sns.jointplot(kind='scatter', x='release YEAR',y='Action',data=pop_movie)"
   ]
  },
  {
   "cell_type": "code",
   "execution_count": 51,
   "metadata": {},
   "outputs": [
    {
     "data": {
      "text/plain": [
       "[<matplotlib.lines.Line2D at 0xeff0040>]"
      ]
     },
     "execution_count": 51,
     "metadata": {},
     "output_type": "execute_result"
    },
    {
     "data": {
      "image/png": "[encoded data removed]",
      "text/plain": [
       "<Figure size 432x288 with 1 Axes>"
      ]
     },
     "metadata": {
      "needs_background": "light"
     },
     "output_type": "display_data"
    }
   ],
   "source": [
    "plt.plot('release YEAR','Action',data=pop_movie)\n"
   ]
  },
  {
   "cell_type": "code",
   "execution_count": 89,
   "metadata": {},
   "outputs": [
    {
     "data": {
      "text/plain": [
       "         release YEAR\n",
       "unknown  1922            0.0\n",
       "         1926            0.0\n",
       "         1930            0.0\n",
       "dtype: float64"
      ]
     },
     "execution_count": 89,
     "metadata": {},
     "output_type": "execute_result"
    }
   ],
   "source": [
    "pop_movie=pop_movie.set_index('release YEAR').unstack()\n",
    "pop_movie.head(3)"
   ]
  },
  {
   "cell_type": "code",
   "execution_count": 90,
   "metadata": {},
   "outputs": [
    {
     "data": {
      "text/plain": [
       "         release YEAR\n",
       "unknown  1922            0.0\n",
       "         1926            0.0\n",
       "         1930            0.0\n",
       "         1931            0.0\n",
       "         1932            0.0\n",
       "         1933            0.0\n",
       "         1934            0.0\n",
       "         1935            0.0\n",
       "         1936            0.0\n",
       "         1937            0.0\n",
       "         1938            0.0\n",
       "         1939            0.0\n",
       "         1940            0.0\n",
       "         1941            0.0\n",
       "         1942            0.0\n",
       "         1943            0.0\n",
       "         1944            0.0\n",
       "         1945            0.0\n",
       "         1946            0.0\n",
       "         1947            0.0\n",
       "dtype: float64"
      ]
     },
     "execution_count": 90,
     "metadata": {},
     "output_type": "execute_result"
    }
   ],
   "source": [
    "pop_movie.head(20)"
   ]
  },
  {
   "cell_type": "code",
   "execution_count": 53,
   "metadata": {},
   "outputs": [],
   "source": [
    "pop_movie=pop_movie.reset_index()\n",
    "pop_movie.rename(columns={'level_0':'Genre',0:'Percent'},inplace=True)"
   ]
  },
  {
   "cell_type": "code",
   "execution_count": 54,
   "metadata": {},
   "outputs": [
    {
     "data": {
      "text/html": [
       "<div>\n",
       "<style scoped>\n",
       "    .dataframe tbody tr th:only-of-type {\n",
       "        vertical-align: middle;\n",
       "    }\n",
       "\n",
       "    .dataframe tbody tr th {\n",
       "        vertical-align: top;\n",
       "    }\n",
       "\n",
       "    .dataframe thead th {\n",
       "        text-align: right;\n",
       "    }\n",
       "</style>\n",
       "<table border=\"1\" class=\"dataframe\">\n",
       "  <thead>\n",
       "    <tr style=\"text-align: right;\">\n",
       "      <th></th>\n",
       "      <th></th>\n",
       "      <th>Percent</th>\n",
       "    </tr>\n",
       "    <tr>\n",
       "      <th>Genre</th>\n",
       "      <th>release YEAR</th>\n",
       "      <th></th>\n",
       "    </tr>\n",
       "  </thead>\n",
       "  <tbody>\n",
       "    <tr>\n",
       "      <th rowspan=\"3\" valign=\"top\">Action</th>\n",
       "      <th>1922</th>\n",
       "      <td>0.0</td>\n",
       "    </tr>\n",
       "    <tr>\n",
       "      <th>1926</th>\n",
       "      <td>0.0</td>\n",
       "    </tr>\n",
       "    <tr>\n",
       "      <th>1930</th>\n",
       "      <td>0.0</td>\n",
       "    </tr>\n",
       "  </tbody>\n",
       "</table>\n",
       "</div>"
      ],
      "text/plain": [
       "                     Percent\n",
       "Genre  release YEAR         \n",
       "Action 1922              0.0\n",
       "       1926              0.0\n",
       "       1930              0.0"
      ]
     },
     "execution_count": 54,
     "metadata": {},
     "output_type": "execute_result"
    }
   ],
   "source": [
    "pop_movie.groupby(['Genre','release YEAR']).sum().head(3)"
   ]
  },
  {
   "cell_type": "code",
   "execution_count": 56,
   "metadata": {},
   "outputs": [
    {
     "data": {
      "text/plain": [
       "<seaborn.axisgrid.FacetGrid at 0x111fc418>"
      ]
     },
     "execution_count": 56,
     "metadata": {},
     "output_type": "execute_result"
    },
    {
     "data": {
      "image/png": "[encoded data removed]",
      "text/plain": [
       "<Figure size 1296x864 with 19 Axes>"
      ]
     },
     "metadata": {
      "needs_background": "light"
     },
     "output_type": "display_data"
    }
   ],
   "source": [
    "import seaborn as sns\n",
    "m=sns.FacetGrid(pop_movie,col='Genre',col_wrap=6,margin_titles=True)\n",
    "m.map(plt.bar,'release YEAR','Percent')\n"
   ]
  },
  {
   "cell_type": "markdown",
   "metadata": {},
   "source": [
    "### 9. Find the top 25 movies according to average ratings such that each movie has number of ratings more than 100 - 10 marks\n",
    "\n",
    "Hints : \n",
    "\n",
    "1. Find the count of ratings and average ratings for every movie.\n",
    "2. Slice the movies which have ratings more than 100.\n",
    "3. Sort values according to average rating such that movie which highest rating is on top.\n",
    "4. Select top 25 movies.\n",
    "5. You will have to use the .merge() function to get the movie titles.\n",
    "\n",
    "Note: This question will need you to research about groupby and apply your findings. You can find more on groupby on https://realpython.com/pandas-groupby/."
   ]
  },
  {
   "cell_type": "code",
   "execution_count": 79,
   "metadata": {},
   "outputs": [
    {
     "name": "stderr",
     "output_type": "stream",
     "text": [
      "<ipython-input-79-041e041a3502>:7: SettingWithCopyWarning: \n",
      "A value is trying to be set on a copy of a slice from a DataFrame\n",
      "\n",
      "See the caveats in the documentation: https://pandas.pydata.org/pandas-docs/stable/user_guide/indexing.html#returning-a-view-versus-a-copy\n",
      "  rate_df['AvgRatings'][i]=row['rating_sum']/row['rating_count']\n"
     ]
    }
   ],
   "source": [
    "rate_df=pd.DataFrame()\n",
    "rating_count=rating_df.groupby('movie id')['rating'].count()\n",
    "rate_sum=rating_df.groupby('movie id')['rating'].sum()\n",
    "rate_df=pd.DataFrame({'rating_count':rating_count,'rating_sum':rate_sum}).reset_index()\n",
    "rate_df['AvgRatings']=None\n",
    "for i,row in rate_df.iterrows():\n",
    "    rate_df['AvgRatings'][i]=row['rating_sum']/row['rating_count']\n",
    "##rate_df.head(2)"
   ]
  },
  {
   "cell_type": "code",
   "execution_count": 80,
   "metadata": {},
   "outputs": [
    {
     "data": {
      "text/html": [
       "<div>\n",
       "<style scoped>\n",
       "    .dataframe tbody tr th:only-of-type {\n",
       "        vertical-align: middle;\n",
       "    }\n",
       "\n",
       "    .dataframe tbody tr th {\n",
       "        vertical-align: top;\n",
       "    }\n",
       "\n",
       "    .dataframe thead th {\n",
       "        text-align: right;\n",
       "    }\n",
       "</style>\n",
       "<table border=\"1\" class=\"dataframe\">\n",
       "  <thead>\n",
       "    <tr style=\"text-align: right;\">\n",
       "      <th></th>\n",
       "      <th>movie title</th>\n",
       "      <th>AvgRatings</th>\n",
       "    </tr>\n",
       "  </thead>\n",
       "  <tbody>\n",
       "    <tr>\n",
       "      <th>0</th>\n",
       "      <td>Close Shave, A</td>\n",
       "      <td>4.49107</td>\n",
       "    </tr>\n",
       "    <tr>\n",
       "      <th>1</th>\n",
       "      <td>Schindler's List</td>\n",
       "      <td>4.46644</td>\n",
       "    </tr>\n",
       "    <tr>\n",
       "      <th>2</th>\n",
       "      <td>Wrong Trousers, The</td>\n",
       "      <td>4.4661</td>\n",
       "    </tr>\n",
       "    <tr>\n",
       "      <th>3</th>\n",
       "      <td>Casablanca</td>\n",
       "      <td>4.45679</td>\n",
       "    </tr>\n",
       "    <tr>\n",
       "      <th>4</th>\n",
       "      <td>Shawshank Redemption, The</td>\n",
       "      <td>4.44523</td>\n",
       "    </tr>\n",
       "    <tr>\n",
       "      <th>5</th>\n",
       "      <td>Rear Window</td>\n",
       "      <td>4.38756</td>\n",
       "    </tr>\n",
       "    <tr>\n",
       "      <th>6</th>\n",
       "      <td>Usual Suspects, The</td>\n",
       "      <td>4.38577</td>\n",
       "    </tr>\n",
       "    <tr>\n",
       "      <th>7</th>\n",
       "      <td>Star Wars</td>\n",
       "      <td>4.35849</td>\n",
       "    </tr>\n",
       "    <tr>\n",
       "      <th>8</th>\n",
       "      <td>12 Angry Men</td>\n",
       "      <td>4.344</td>\n",
       "    </tr>\n",
       "    <tr>\n",
       "      <th>9</th>\n",
       "      <td>Citizen Kane</td>\n",
       "      <td>4.29293</td>\n",
       "    </tr>\n",
       "    <tr>\n",
       "      <th>10</th>\n",
       "      <td>To Kill a Mockingbird</td>\n",
       "      <td>4.29224</td>\n",
       "    </tr>\n",
       "    <tr>\n",
       "      <th>11</th>\n",
       "      <td>One Flew Over the Cuckoo's Nest</td>\n",
       "      <td>4.29167</td>\n",
       "    </tr>\n",
       "    <tr>\n",
       "      <th>12</th>\n",
       "      <td>Silence of the Lambs, The</td>\n",
       "      <td>4.28974</td>\n",
       "    </tr>\n",
       "    <tr>\n",
       "      <th>13</th>\n",
       "      <td>North by Northwest</td>\n",
       "      <td>4.28492</td>\n",
       "    </tr>\n",
       "    <tr>\n",
       "      <th>14</th>\n",
       "      <td>Godfather, The</td>\n",
       "      <td>4.28329</td>\n",
       "    </tr>\n",
       "    <tr>\n",
       "      <th>15</th>\n",
       "      <td>Secrets &amp; Lies</td>\n",
       "      <td>4.26543</td>\n",
       "    </tr>\n",
       "    <tr>\n",
       "      <th>16</th>\n",
       "      <td>Good Will Hunting</td>\n",
       "      <td>4.26263</td>\n",
       "    </tr>\n",
       "    <tr>\n",
       "      <th>17</th>\n",
       "      <td>Manchurian Candidate, The</td>\n",
       "      <td>4.25954</td>\n",
       "    </tr>\n",
       "    <tr>\n",
       "      <th>18</th>\n",
       "      <td>Dr. Strangelove or: How I Learned to Stop Worr...</td>\n",
       "      <td>4.25258</td>\n",
       "    </tr>\n",
       "    <tr>\n",
       "      <th>19</th>\n",
       "      <td>Raiders of the Lost Ark</td>\n",
       "      <td>4.25238</td>\n",
       "    </tr>\n",
       "    <tr>\n",
       "      <th>20</th>\n",
       "      <td>Vertigo</td>\n",
       "      <td>4.2514</td>\n",
       "    </tr>\n",
       "    <tr>\n",
       "      <th>21</th>\n",
       "      <td>Titanic</td>\n",
       "      <td>4.24571</td>\n",
       "    </tr>\n",
       "    <tr>\n",
       "      <th>22</th>\n",
       "      <td>Lawrence of Arabia</td>\n",
       "      <td>4.23121</td>\n",
       "    </tr>\n",
       "    <tr>\n",
       "      <th>23</th>\n",
       "      <td>Maltese Falcon, The</td>\n",
       "      <td>4.21014</td>\n",
       "    </tr>\n",
       "    <tr>\n",
       "      <th>24</th>\n",
       "      <td>Empire Strikes Back, The</td>\n",
       "      <td>4.20436</td>\n",
       "    </tr>\n",
       "  </tbody>\n",
       "</table>\n",
       "</div>"
      ],
      "text/plain": [
       "                                          movie title AvgRatings\n",
       "0                                     Close Shave, A     4.49107\n",
       "1                                   Schindler's List     4.46644\n",
       "2                                Wrong Trousers, The      4.4661\n",
       "3                                         Casablanca     4.45679\n",
       "4                          Shawshank Redemption, The     4.44523\n",
       "5                                        Rear Window     4.38756\n",
       "6                                Usual Suspects, The     4.38577\n",
       "7                                          Star Wars     4.35849\n",
       "8                                       12 Angry Men       4.344\n",
       "9                                       Citizen Kane     4.29293\n",
       "10                             To Kill a Mockingbird     4.29224\n",
       "11                   One Flew Over the Cuckoo's Nest     4.29167\n",
       "12                         Silence of the Lambs, The     4.28974\n",
       "13                                North by Northwest     4.28492\n",
       "14                                    Godfather, The     4.28329\n",
       "15                                    Secrets & Lies     4.26543\n",
       "16                                 Good Will Hunting     4.26263\n",
       "17                         Manchurian Candidate, The     4.25954\n",
       "18  Dr. Strangelove or: How I Learned to Stop Worr...    4.25258\n",
       "19                           Raiders of the Lost Ark     4.25238\n",
       "20                                           Vertigo      4.2514\n",
       "21                                           Titanic     4.24571\n",
       "22                                Lawrence of Arabia     4.23121\n",
       "23                               Maltese Falcon, The     4.21014\n",
       "24                          Empire Strikes Back, The     4.20436"
      ]
     },
     "execution_count": 80,
     "metadata": {},
     "output_type": "execute_result"
    }
   ],
   "source": [
    "rate_df=rate_df.loc[rate_df['rating_count']>100]\n",
    "top25=rate_df.sort_values(by='AvgRatings',ascending=False).head(25)\n",
    "top25=top25[['movie id','AvgRatings']]\n",
    "top25=top25.merge(movie,on='movie id',how='left')\n",
    "top25=top25[['movie title','AvgRatings']]\n",
    "top25"
   ]
  },
  {
   "cell_type": "markdown",
   "metadata": {},
   "source": [
    "### 10. See gender distribution across different genres check for the validity of the below statements - 10 marks\n",
    "\n",
    "* Men watch more drama than women\n",
    "* Women watch more Sci-Fi than men\n",
    "* Men watch more Romance than women\n",
    "\n",
    "**compare the percentages**"
   ]
  },
  {
   "cell_type": "markdown",
   "metadata": {},
   "source": [
    "1. Merge all the datasets\n",
    "\n",
    "2. There is no need to conduct statistical tests around this. Just **compare the percentages** and comment on the validity of the above statements.\n",
    "\n",
    "3. you might want ot use the .sum(), .div() function here.\n",
    "\n",
    "4. Use number of ratings to validate the numbers. For example, if out of 4000 ratings received by women, 3000 are for drama, we will assume that 75% of the women watch drama."
   ]
  },
  {
   "cell_type": "code",
   "execution_count": 113,
   "metadata": {},
   "outputs": [
    {
     "data": {
      "text/html": [
       "<div>\n",
       "<style scoped>\n",
       "    .dataframe tbody tr th:only-of-type {\n",
       "        vertical-align: middle;\n",
       "    }\n",
       "\n",
       "    .dataframe tbody tr th {\n",
       "        vertical-align: top;\n",
       "    }\n",
       "\n",
       "    .dataframe thead th {\n",
       "        text-align: right;\n",
       "    }\n",
       "</style>\n",
       "<table border=\"1\" class=\"dataframe\">\n",
       "  <thead>\n",
       "    <tr style=\"text-align: right;\">\n",
       "      <th></th>\n",
       "      <th>user id</th>\n",
       "      <th>movie id</th>\n",
       "      <th>rating</th>\n",
       "      <th>timestamp</th>\n",
       "      <th>movie title</th>\n",
       "      <th>release date</th>\n",
       "      <th>unknown</th>\n",
       "      <th>Action</th>\n",
       "      <th>Adventure</th>\n",
       "      <th>Animation</th>\n",
       "      <th>...</th>\n",
       "      <th>Romance</th>\n",
       "      <th>Sci-Fi</th>\n",
       "      <th>Thriller</th>\n",
       "      <th>War</th>\n",
       "      <th>Western</th>\n",
       "      <th>release YEAR</th>\n",
       "      <th>age</th>\n",
       "      <th>gender</th>\n",
       "      <th>occupation</th>\n",
       "      <th>zip code</th>\n",
       "    </tr>\n",
       "  </thead>\n",
       "  <tbody>\n",
       "    <tr>\n",
       "      <th>0</th>\n",
       "      <td>196</td>\n",
       "      <td>242</td>\n",
       "      <td>3</td>\n",
       "      <td>881250949</td>\n",
       "      <td>Kolya</td>\n",
       "      <td>24-Jan-1997</td>\n",
       "      <td>0.0</td>\n",
       "      <td>0.0</td>\n",
       "      <td>0.0</td>\n",
       "      <td>0.0</td>\n",
       "      <td>...</td>\n",
       "      <td>0.0</td>\n",
       "      <td>0.0</td>\n",
       "      <td>0.0</td>\n",
       "      <td>0.0</td>\n",
       "      <td>0.0</td>\n",
       "      <td>1997</td>\n",
       "      <td>49</td>\n",
       "      <td>M</td>\n",
       "      <td>writer</td>\n",
       "      <td>55105</td>\n",
       "    </tr>\n",
       "    <tr>\n",
       "      <th>1</th>\n",
       "      <td>186</td>\n",
       "      <td>302</td>\n",
       "      <td>3</td>\n",
       "      <td>891717742</td>\n",
       "      <td>L.A. Confidential</td>\n",
       "      <td>01-Jan-1997</td>\n",
       "      <td>0.0</td>\n",
       "      <td>0.0</td>\n",
       "      <td>0.0</td>\n",
       "      <td>0.0</td>\n",
       "      <td>...</td>\n",
       "      <td>0.0</td>\n",
       "      <td>0.0</td>\n",
       "      <td>1.0</td>\n",
       "      <td>0.0</td>\n",
       "      <td>0.0</td>\n",
       "      <td>1997</td>\n",
       "      <td>39</td>\n",
       "      <td>F</td>\n",
       "      <td>executive</td>\n",
       "      <td>00000</td>\n",
       "    </tr>\n",
       "    <tr>\n",
       "      <th>2</th>\n",
       "      <td>22</td>\n",
       "      <td>377</td>\n",
       "      <td>1</td>\n",
       "      <td>878887116</td>\n",
       "      <td>Heavyweights</td>\n",
       "      <td>01-Jan-1994</td>\n",
       "      <td>0.0</td>\n",
       "      <td>0.0</td>\n",
       "      <td>0.0</td>\n",
       "      <td>0.0</td>\n",
       "      <td>...</td>\n",
       "      <td>0.0</td>\n",
       "      <td>0.0</td>\n",
       "      <td>0.0</td>\n",
       "      <td>0.0</td>\n",
       "      <td>0.0</td>\n",
       "      <td>1994</td>\n",
       "      <td>25</td>\n",
       "      <td>M</td>\n",
       "      <td>writer</td>\n",
       "      <td>40206</td>\n",
       "    </tr>\n",
       "    <tr>\n",
       "      <th>3</th>\n",
       "      <td>244</td>\n",
       "      <td>51</td>\n",
       "      <td>2</td>\n",
       "      <td>880606923</td>\n",
       "      <td>Legends of the Fall</td>\n",
       "      <td>01-Jan-1994</td>\n",
       "      <td>0.0</td>\n",
       "      <td>0.0</td>\n",
       "      <td>0.0</td>\n",
       "      <td>0.0</td>\n",
       "      <td>...</td>\n",
       "      <td>1.0</td>\n",
       "      <td>0.0</td>\n",
       "      <td>0.0</td>\n",
       "      <td>1.0</td>\n",
       "      <td>1.0</td>\n",
       "      <td>1994</td>\n",
       "      <td>28</td>\n",
       "      <td>M</td>\n",
       "      <td>technician</td>\n",
       "      <td>80525</td>\n",
       "    </tr>\n",
       "    <tr>\n",
       "      <th>4</th>\n",
       "      <td>166</td>\n",
       "      <td>346</td>\n",
       "      <td>1</td>\n",
       "      <td>886397596</td>\n",
       "      <td>Jackie Brown</td>\n",
       "      <td>01-Jan-1997</td>\n",
       "      <td>0.0</td>\n",
       "      <td>0.0</td>\n",
       "      <td>0.0</td>\n",
       "      <td>0.0</td>\n",
       "      <td>...</td>\n",
       "      <td>0.0</td>\n",
       "      <td>0.0</td>\n",
       "      <td>0.0</td>\n",
       "      <td>0.0</td>\n",
       "      <td>0.0</td>\n",
       "      <td>1997</td>\n",
       "      <td>47</td>\n",
       "      <td>M</td>\n",
       "      <td>educator</td>\n",
       "      <td>55113</td>\n",
       "    </tr>\n",
       "  </tbody>\n",
       "</table>\n",
       "<p>5 rows × 30 columns</p>\n",
       "</div>"
      ],
      "text/plain": [
       "   user id  movie id  rating  timestamp           movie title release date  \\\n",
       "0      196       242       3  881250949                Kolya   24-Jan-1997   \n",
       "1      186       302       3  891717742    L.A. Confidential   01-Jan-1997   \n",
       "2       22       377       1  878887116         Heavyweights   01-Jan-1994   \n",
       "3      244        51       2  880606923  Legends of the Fall   01-Jan-1994   \n",
       "4      166       346       1  886397596         Jackie Brown   01-Jan-1997   \n",
       "\n",
       "   unknown  Action  Adventure  Animation  ...  Romance  Sci-Fi  Thriller  War  \\\n",
       "0      0.0     0.0        0.0        0.0  ...      0.0     0.0       0.0  0.0   \n",
       "1      0.0     0.0        0.0        0.0  ...      0.0     0.0       1.0  0.0   \n",
       "2      0.0     0.0        0.0        0.0  ...      0.0     0.0       0.0  0.0   \n",
       "3      0.0     0.0        0.0        0.0  ...      1.0     0.0       0.0  1.0   \n",
       "4      0.0     0.0        0.0        0.0  ...      0.0     0.0       0.0  0.0   \n",
       "\n",
       "   Western  release YEAR  age  gender  occupation  zip code  \n",
       "0      0.0          1997   49       M      writer     55105  \n",
       "1      0.0          1997   39       F   executive     00000  \n",
       "2      0.0          1994   25       M      writer     40206  \n",
       "3      1.0          1994   28       M  technician     80525  \n",
       "4      0.0          1997   47       M    educator     55113  \n",
       "\n",
       "[5 rows x 30 columns]"
      ]
     },
     "execution_count": 113,
     "metadata": {},
     "output_type": "execute_result"
    }
   ],
   "source": [
    "merge1=rating_df.merge(movie,on='movie id',how='left')\n",
    "merged=merge1.merge(user,on='user id',how='left')\n",
    "merged.head(5)\n",
    "##sns.barplot(x='Genre',y='rating_count',hue='Gender',data=gg_df)"
   ]
  },
  {
   "cell_type": "code",
   "execution_count": 114,
   "metadata": {},
   "outputs": [
    {
     "data": {
      "text/html": [
       "<div>\n",
       "<style scoped>\n",
       "    .dataframe tbody tr th:only-of-type {\n",
       "        vertical-align: middle;\n",
       "    }\n",
       "\n",
       "    .dataframe tbody tr th {\n",
       "        vertical-align: top;\n",
       "    }\n",
       "\n",
       "    .dataframe thead th {\n",
       "        text-align: right;\n",
       "    }\n",
       "</style>\n",
       "<table border=\"1\" class=\"dataframe\">\n",
       "  <thead>\n",
       "    <tr style=\"text-align: right;\">\n",
       "      <th></th>\n",
       "      <th>movie id</th>\n",
       "      <th>rating</th>\n",
       "      <th>unknown</th>\n",
       "      <th>Action</th>\n",
       "      <th>Adventure</th>\n",
       "      <th>Animation</th>\n",
       "      <th>Childrens</th>\n",
       "      <th>Comedy</th>\n",
       "      <th>Crime</th>\n",
       "      <th>Documentary</th>\n",
       "      <th>...</th>\n",
       "      <th>Film-Noir</th>\n",
       "      <th>Horror</th>\n",
       "      <th>Musical</th>\n",
       "      <th>Mystery</th>\n",
       "      <th>Romance</th>\n",
       "      <th>Sci-Fi</th>\n",
       "      <th>Thriller</th>\n",
       "      <th>War</th>\n",
       "      <th>Western</th>\n",
       "      <th>gender</th>\n",
       "    </tr>\n",
       "  </thead>\n",
       "  <tbody>\n",
       "    <tr>\n",
       "      <th>0</th>\n",
       "      <td>242</td>\n",
       "      <td>3</td>\n",
       "      <td>0.0</td>\n",
       "      <td>0.0</td>\n",
       "      <td>0.0</td>\n",
       "      <td>0.0</td>\n",
       "      <td>0.0</td>\n",
       "      <td>1.0</td>\n",
       "      <td>0.0</td>\n",
       "      <td>0.0</td>\n",
       "      <td>...</td>\n",
       "      <td>0.0</td>\n",
       "      <td>0.0</td>\n",
       "      <td>0.0</td>\n",
       "      <td>0.0</td>\n",
       "      <td>0.0</td>\n",
       "      <td>0.0</td>\n",
       "      <td>0.0</td>\n",
       "      <td>0.0</td>\n",
       "      <td>0.0</td>\n",
       "      <td>M</td>\n",
       "    </tr>\n",
       "    <tr>\n",
       "      <th>1</th>\n",
       "      <td>302</td>\n",
       "      <td>3</td>\n",
       "      <td>0.0</td>\n",
       "      <td>0.0</td>\n",
       "      <td>0.0</td>\n",
       "      <td>0.0</td>\n",
       "      <td>0.0</td>\n",
       "      <td>0.0</td>\n",
       "      <td>1.0</td>\n",
       "      <td>0.0</td>\n",
       "      <td>...</td>\n",
       "      <td>1.0</td>\n",
       "      <td>0.0</td>\n",
       "      <td>0.0</td>\n",
       "      <td>1.0</td>\n",
       "      <td>0.0</td>\n",
       "      <td>0.0</td>\n",
       "      <td>1.0</td>\n",
       "      <td>0.0</td>\n",
       "      <td>0.0</td>\n",
       "      <td>F</td>\n",
       "    </tr>\n",
       "    <tr>\n",
       "      <th>2</th>\n",
       "      <td>377</td>\n",
       "      <td>1</td>\n",
       "      <td>0.0</td>\n",
       "      <td>0.0</td>\n",
       "      <td>0.0</td>\n",
       "      <td>0.0</td>\n",
       "      <td>1.0</td>\n",
       "      <td>1.0</td>\n",
       "      <td>0.0</td>\n",
       "      <td>0.0</td>\n",
       "      <td>...</td>\n",
       "      <td>0.0</td>\n",
       "      <td>0.0</td>\n",
       "      <td>0.0</td>\n",
       "      <td>0.0</td>\n",
       "      <td>0.0</td>\n",
       "      <td>0.0</td>\n",
       "      <td>0.0</td>\n",
       "      <td>0.0</td>\n",
       "      <td>0.0</td>\n",
       "      <td>M</td>\n",
       "    </tr>\n",
       "  </tbody>\n",
       "</table>\n",
       "<p>3 rows × 22 columns</p>\n",
       "</div>"
      ],
      "text/plain": [
       "   movie id  rating  unknown  Action  Adventure  Animation  Childrens  Comedy  \\\n",
       "0       242       3      0.0     0.0        0.0        0.0        0.0     1.0   \n",
       "1       302       3      0.0     0.0        0.0        0.0        0.0     0.0   \n",
       "2       377       1      0.0     0.0        0.0        0.0        1.0     1.0   \n",
       "\n",
       "   Crime  Documentary  ...  Film-Noir  Horror  Musical  Mystery  Romance  \\\n",
       "0    0.0          0.0  ...        0.0     0.0      0.0      0.0      0.0   \n",
       "1    1.0          0.0  ...        1.0     0.0      0.0      1.0      0.0   \n",
       "2    0.0          0.0  ...        0.0     0.0      0.0      0.0      0.0   \n",
       "\n",
       "   Sci-Fi  Thriller  War  Western  gender  \n",
       "0     0.0       0.0  0.0      0.0       M  \n",
       "1     0.0       1.0  0.0      0.0       F  \n",
       "2     0.0       0.0  0.0      0.0       M  \n",
       "\n",
       "[3 rows x 22 columns]"
      ]
     },
     "execution_count": 114,
     "metadata": {},
     "output_type": "execute_result"
    }
   ],
   "source": [
    "merged=merged[['movie id','rating', 'unknown', 'Action', 'Adventure', 'Animation',\n",
    "       'Childrens', 'Comedy', 'Crime', 'Documentary', 'Drama', 'Fantasy',\n",
    "       'Film-Noir', 'Horror', 'Musical', 'Mystery', 'Romance', 'Sci-Fi',\n",
    "       'Thriller', 'War', 'Western','gender']]\n",
    "merged.head(3)"
   ]
  },
  {
   "cell_type": "code",
   "execution_count": 117,
   "metadata": {},
   "outputs": [
    {
     "data": {
      "text/plain": [
       "gender\n",
       "F    11008\n",
       "M    28887\n",
       "Name: rating, dtype: int64"
      ]
     },
     "execution_count": 117,
     "metadata": {},
     "output_type": "execute_result"
    }
   ],
   "source": [
    "drama=merged[merged['Drama']==1]\n",
    "drama.groupby('gender')['rating'].count()"
   ]
  },
  {
   "cell_type": "code",
   "execution_count": 118,
   "metadata": {},
   "outputs": [
    {
     "data": {
      "text/plain": [
       "gender\n",
       "F    25740\n",
       "M    74260\n",
       "Name: rating, dtype: int64"
      ]
     },
     "execution_count": 118,
     "metadata": {},
     "output_type": "execute_result"
    }
   ],
   "source": [
    "tot=merged.groupby('gender')['rating'].count()\n",
    "tot"
   ]
  },
  {
   "cell_type": "code",
   "execution_count": 119,
   "metadata": {},
   "outputs": [
    {
     "ename": "AttributeError",
     "evalue": "'DataFrame' object has no attribute 'grouby'",
     "output_type": "error",
     "traceback": [
      "\u001b[1;31m---------------------------------------------------------------------------\u001b[0m",
      "\u001b[1;31mAttributeError\u001b[0m                            Traceback (most recent call last)",
      "\u001b[1;32m<ipython-input-119-3927a1281aa6>\u001b[0m in \u001b[0;36m<module>\u001b[1;34m\u001b[0m\n\u001b[1;32m----> 1\u001b[1;33m \u001b[0mdrama_df\u001b[0m\u001b[1;33m=\u001b[0m\u001b[0mpd\u001b[0m\u001b[1;33m.\u001b[0m\u001b[0mDataFrame\u001b[0m\u001b[1;33m(\u001b[0m\u001b[1;33m{\u001b[0m\u001b[1;34m'tot_count'\u001b[0m\u001b[1;33m:\u001b[0m\u001b[0mmerged\u001b[0m\u001b[1;33m.\u001b[0m\u001b[0mgrouby\u001b[0m\u001b[1;33m(\u001b[0m\u001b[1;34m'gender'\u001b[0m\u001b[1;33m)\u001b[0m\u001b[1;33m[\u001b[0m\u001b[1;34m'rating'\u001b[0m\u001b[1;33m]\u001b[0m\u001b[1;33m.\u001b[0m\u001b[0mcount\u001b[0m\u001b[1;33m(\u001b[0m\u001b[1;33m)\u001b[0m\u001b[1;33m,\u001b[0m\u001b[1;34m'drama_count'\u001b[0m\u001b[1;33m:\u001b[0m\u001b[0mdrama\u001b[0m\u001b[1;33m.\u001b[0m\u001b[0mgroupby\u001b[0m\u001b[1;33m(\u001b[0m\u001b[1;34m'gender'\u001b[0m\u001b[1;33m)\u001b[0m\u001b[1;33m[\u001b[0m\u001b[1;34m'rating'\u001b[0m\u001b[1;33m]\u001b[0m\u001b[1;33m.\u001b[0m\u001b[0mcount\u001b[0m\u001b[1;33m(\u001b[0m\u001b[1;33m)\u001b[0m\u001b[1;33m}\u001b[0m\u001b[1;33m)\u001b[0m\u001b[1;33m\u001b[0m\u001b[1;33m\u001b[0m\u001b[0m\n\u001b[0m",
      "\u001b[1;32m~\\anaconda3\\lib\\site-packages\\pandas\\core\\generic.py\u001b[0m in \u001b[0;36m__getattr__\u001b[1;34m(self, name)\u001b[0m\n\u001b[0;32m   5272\u001b[0m             \u001b[1;32mif\u001b[0m \u001b[0mself\u001b[0m\u001b[1;33m.\u001b[0m\u001b[0m_info_axis\u001b[0m\u001b[1;33m.\u001b[0m\u001b[0m_can_hold_identifiers_and_holds_name\u001b[0m\u001b[1;33m(\u001b[0m\u001b[0mname\u001b[0m\u001b[1;33m)\u001b[0m\u001b[1;33m:\u001b[0m\u001b[1;33m\u001b[0m\u001b[1;33m\u001b[0m\u001b[0m\n\u001b[0;32m   5273\u001b[0m                 \u001b[1;32mreturn\u001b[0m \u001b[0mself\u001b[0m\u001b[1;33m[\u001b[0m\u001b[0mname\u001b[0m\u001b[1;33m]\u001b[0m\u001b[1;33m\u001b[0m\u001b[1;33m\u001b[0m\u001b[0m\n\u001b[1;32m-> 5274\u001b[1;33m             \u001b[1;32mreturn\u001b[0m \u001b[0mobject\u001b[0m\u001b[1;33m.\u001b[0m\u001b[0m__getattribute__\u001b[0m\u001b[1;33m(\u001b[0m\u001b[0mself\u001b[0m\u001b[1;33m,\u001b[0m \u001b[0mname\u001b[0m\u001b[1;33m)\u001b[0m\u001b[1;33m\u001b[0m\u001b[1;33m\u001b[0m\u001b[0m\n\u001b[0m\u001b[0;32m   5275\u001b[0m \u001b[1;33m\u001b[0m\u001b[0m\n\u001b[0;32m   5276\u001b[0m     \u001b[1;32mdef\u001b[0m \u001b[0m__setattr__\u001b[0m\u001b[1;33m(\u001b[0m\u001b[0mself\u001b[0m\u001b[1;33m,\u001b[0m \u001b[0mname\u001b[0m\u001b[1;33m:\u001b[0m \u001b[0mstr\u001b[0m\u001b[1;33m,\u001b[0m \u001b[0mvalue\u001b[0m\u001b[1;33m)\u001b[0m \u001b[1;33m->\u001b[0m \u001b[1;32mNone\u001b[0m\u001b[1;33m:\u001b[0m\u001b[1;33m\u001b[0m\u001b[1;33m\u001b[0m\u001b[0m\n",
      "\u001b[1;31mAttributeError\u001b[0m: 'DataFrame' object has no attribute 'grouby'"
     ]
    }
   ],
   "source": [
    "drama_df=pd.DataFrame({'tot_count':merged.groupby('gender')['rating'].count(),'drama_count':drama.groupby('gender')['rating'].count()})"
   ]
  },
  {
   "cell_type": "raw",
   "metadata": {},
   "source": [
    "merged.groupby('gender')['rating'].count()"
   ]
  },
  {
   "cell_type": "raw",
   "metadata": {},
   "source": []
  }
 ],
 "metadata": {
  "kernelspec": {
   "display_name": "Python 3",
   "language": "python",
   "name": "python3"
  },
  "language_info": {
   "codemirror_mode": {
    "name": "ipython",
    "version": 3
   },
   "file_extension": ".py",
   "mimetype": "text/x-python",
   "name": "python",
   "nbconvert_exporter": "python",
   "pygments_lexer": "ipython3",
   "version": "3.8.3"
  }
 },
 "nbformat": 4,
 "nbformat_minor": 2
}
